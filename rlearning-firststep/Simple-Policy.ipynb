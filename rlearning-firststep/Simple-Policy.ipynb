{
 "cells": [
  {
   "cell_type": "code",
   "execution_count": 6,
   "metadata": {},
   "outputs": [],
   "source": [
    "import tensorflow as tf\n",
    "import tensorflow.contrib.slim as slim\n",
    "import numpy as np"
   ]
  },
  {
   "cell_type": "code",
   "execution_count": 7,
   "metadata": {},
   "outputs": [],
   "source": [
    "# 밴딧의 손잡이 목록을 작성한다.\n",
    "# 현재 손잡이 4 (인덱스는 3)가 가장 자주 양의 보상을 제공하도록 설정되어 있다.\n",
    "bandit_arms = [0.2, 0.0, -0.2, -2.0]\n",
    "num_arms = len(bandit_arms)"
   ]
  },
  {
   "cell_type": "code",
   "execution_count": 9,
   "metadata": {},
   "outputs": [],
   "source": [
    "def pullBandit(bandit):\n",
    "    # 랜덤한 값을 구한다\n",
    "    result = np.random.randn(1)\n",
    "    \n",
    "    if result > bandit:\n",
    "        # 양의 보상을 반환한다\n",
    "        return 1\n",
    "    else:\n",
    "        # 음의 보상을 반환한다\n",
    "        return -1"
   ]
  },
  {
   "cell_type": "code",
   "execution_count": 10,
   "metadata": {},
   "outputs": [],
   "source": [
    "# 간단한 신경망 구현\n",
    "# 신경망은 각 밴딧 손잡이에 대한 일련의 값들로 구성\n",
    "# 각 값은 해당 밴딧을 선택할 때 반환되는 보상의 추정값을 의미\n",
    "# 정책 경사 방법을 이용해 선택된 액션에 대해 큰 보상을 받는 쪽으로 이동해나가며 에이전트를 업데이트\n",
    "tf.reset_default_graph()\n",
    "\n",
    "# 네트워크의 피드포워드 부분 구현\n",
    "weights = tf.Variable(tf.ones([num_arms]))\n",
    "output = tf.nn.softmax(weights)"
   ]
  },
  {
   "cell_type": "code",
   "execution_count": 16,
   "metadata": {},
   "outputs": [],
   "source": [
    "# 학습 과정을 구현한다\n",
    "# 보상과 선택된 액션을 네트워크에 피드해줌으로써 비용을 계산하고 비용을 이용해 네트워크를 업데이트한다\n",
    "reward_holder = tf.placeholder(shape=[1], dtype=tf.float32)\n",
    "action_holder = tf.placeholder(shape=[1], dtype=tf.int32)\n",
    "\n",
    "responsible_output = tf.slice(output, action_holder, [1])\n",
    "loss = -1 * (tf.log(responsible_output) * reward_holder)\n",
    "optimizer = tf.train.AdamOptimizer(learning_rate=1e-3)\n",
    "update = optimizer.minimize(loss)"
   ]
  },
  {
   "cell_type": "code",
   "execution_count": 18,
   "metadata": {},
   "outputs": [],
   "source": [
    "# 에이전트를 학습시킬 총 에피소드의 수를 설정한다\n",
    "total_episodes = 1000\n",
    "# 밴딧 손잡이에 대한 점수판을 0으로 설정\n",
    "total_reward = np.zeros(num_arms)\n",
    "\n",
    "init = tf.global_variables_initializer()"
   ]
  },
  {
   "cell_type": "code",
   "execution_count": null,
   "metadata": {},
   "outputs": [],
   "source": [
    "# 텐서플로 그래프를 론칭한다\n",
    "with tf.Session() as sess:\n",
    "    sess.run(init)\n",
    "    \n",
    "    i = 0\n",
    "    while i < total_episodes:\n",
    "        # 볼츠만 분포에 따라 액션 선택\n",
    "        actions = sess.run(output)\n",
    "        a = np.random.choice(actions, p=actions)\n",
    "        action = np.argmax(actions == a)\n",
    "        \n",
    "        # 밴딧 손잡이 중 하나를 선택함으로써 보상을 받는다\n",
    "        reward = pullBandit(bandit_arms[action])\n",
    "        \n",
    "        # 네트워크를 업데이트한다\n",
    "        _, resp, ww = sess.run([update, responsible_output, weights], feed_dict={\n",
    "            reward_holder:[reward], \n",
    "            action_holder: [action]\n",
    "        })\n",
    "        \n",
    "        # 보상의 총계 업데이트\n",
    "        total_reward[action] += reward\n",
    "        if i % 50 == 0:\n",
    "            print(\"Running reward for the \" + str(num_arms) + \" arms of the bandit: \" + str(total_reward))\n",
    "        i += 1\n",
    "\n",
    "print(\"\\nThe agent thinks arm\")\n",
    "        "
   ]
  }
 ],
 "metadata": {
  "kernelspec": {
   "display_name": "Python 3",
   "language": "python",
   "name": "python3"
  },
  "language_info": {
   "codemirror_mode": {
    "name": "ipython",
    "version": 3
   },
   "file_extension": ".py",
   "mimetype": "text/x-python",
   "name": "python",
   "nbconvert_exporter": "python",
   "pygments_lexer": "ipython3",
   "version": "3.6.10"
  }
 },
 "nbformat": 4,
 "nbformat_minor": 4
}
